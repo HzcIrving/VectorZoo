{
 "cells": [
  {
   "cell_type": "code",
   "execution_count": null,
   "metadata": {},
   "outputs": [
    {
     "name": "stdout",
     "output_type": "stream",
     "text": [
      "1.10.0+cpu\n",
      "当前使用的cuda版本： None\n",
      "False\n",
      "Python Version: 3.7.13 (default, Mar 28 2022, 08:03:21) [MSC v.1916 64 bit (AMD64)]\n"
     ]
    }
   ],
   "source": [
    "import torch  \n",
    "import sys \n",
    "print(torch.__version__)\n",
    "print(\"当前使用的cuda版本：\", torch.version.cuda)\n",
    "print(torch.cuda.is_available())\n",
    "print(\"Python Version:\", sys.version)"
   ]
  },
  {
   "cell_type": "markdown",
   "metadata": {},
   "source": [
    "### PyG Basic  \n",
    "\n",
    "#### 1. Data(torch_geometric.data.Data) \n",
    "这个类允许你非常简单的构建你的图数据对象。你只需要确定两个东西：\n",
    "\n",
    "- 节点的属性/特征（the **attributes**/**features** associated with each node, **node features**）\n",
    "- 邻接/边连接信息（the **connectivity/adjacency** of each node,**edge index**）\n"
   ]
  },
  {
   "cell_type": "code",
   "execution_count": null,
   "metadata": {},
   "outputs": [],
   "source": [
    "# 输出当前python版本\n"
   ]
  },
  {
   "cell_type": "code",
   "execution_count": null,
   "metadata": {},
   "outputs": [],
   "source": []
  }
 ],
 "metadata": {
  "kernelspec": {
   "display_name": "DIEngine",
   "language": "python",
   "name": "python3"
  },
  "language_info": {
   "codemirror_mode": {
    "name": "ipython",
    "version": 3
   },
   "file_extension": ".py",
   "mimetype": "text/x-python",
   "name": "python",
   "nbconvert_exporter": "python",
   "pygments_lexer": "ipython3",
   "version": "3.7.11"
  }
 },
 "nbformat": 4,
 "nbformat_minor": 2
}
