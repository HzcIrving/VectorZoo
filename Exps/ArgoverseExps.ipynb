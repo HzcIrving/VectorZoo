{
 "cells": [
  {
   "cell_type": "code",
   "execution_count": 45,
   "metadata": {},
   "outputs": [
    {
     "name": "stdout",
     "output_type": "stream",
     "text": [
      "1.13.1+cu117\n",
      "当前使用的cuda版本： 11.7\n",
      "True\n",
      "Python Version: 3.7.16 (default, Jan 17 2023, 22:20:44) \n",
      "[GCC 11.2.0]\n"
     ]
    }
   ],
   "source": [
    "import torch  \n",
    "import sys \n",
    "print(torch.__version__)\n",
    "print(\"当前使用的cuda版本：\", torch.version.cuda)\n",
    "print(torch.cuda.is_available())\n",
    "print(\"Python Version:\", sys.version) \n",
    "\n",
    "sys.path.append(\"../../argoverse-api/\") \n",
    "\n",
    "import argoverse"
   ]
  },
  {
   "cell_type": "code",
   "execution_count": 22,
   "metadata": {},
   "outputs": [
    {
     "name": "stdout",
     "output_type": "stream",
     "text": [
      "/media/irvinghe/CodingSpace/ArgDataset/VectorZoo/Exps\n",
      "../../TNT-Trajectory-Prediction/val\n",
      "True\n",
      "      TIMESTAMP                              TRACK_ID OBJECT_TYPE  \\\n",
      "0  3.159906e+08  00000000-0000-0000-0000-000000000000          AV   \n",
      "1  3.159906e+08  00000000-0000-0000-0000-000000189649      OTHERS   \n",
      "2  3.159906e+08  00000000-0000-0000-0000-000000189670      OTHERS   \n",
      "3  3.159906e+08  00000000-0000-0000-0000-000000189674      OTHERS   \n",
      "4  3.159906e+08  00000000-0000-0000-0000-000000189661       AGENT   \n",
      "\n",
      "             X           Y CITY_NAME  \n",
      "0  1789.089512  410.543838       PIT  \n",
      "1  1801.788431  413.601881       PIT  \n",
      "2  1770.344981  410.407163       PIT  \n",
      "3  1775.371246  422.285637       PIT  \n",
      "4  1766.147689  383.719366       PIT  \n"
     ]
    }
   ],
   "source": [
    "!pwd  \n",
    "import os \n",
    "wkspace = \"../../TNT-Trajectory-Prediction/\" \n",
    "val_pth = wkspace + \"val\"\n",
    "train_pth = wkspace + \"train\"\n",
    "print(val_pth) \n",
    "\n",
    "# 检查train_pth是否存在\n",
    "print(os.path.exists(val_pth))\n",
    "\n",
    "import pandas as pd \n",
    "# 遍历val_path下所有文件\n",
    "# for file in os.listdir(val_pth+\"/val/data/\"):\n",
    "    # print(file) \n",
    "    \n",
    "data = pd.read_csv(val_pth + \"/val/data/1.csv\")\n",
    "print(data.head())\n"
   ]
  },
  {
   "attachments": {},
   "cell_type": "markdown",
   "metadata": {},
   "source": [
    "#### 符号说明 \n",
    "\n",
    "- TIMESTAMP 时间戳 \n",
    "  - 采样频率 10Hz，tp0.1s，5s轨迹50个点  \n",
    "  - AV 自车 50点轨迹\n",
    "  - AGENT 感兴趣车辆 50点轨迹\n",
    "  - OTHER 最多50（可能消失/出现）\n",
    "- TRACK_ID 跟踪id\n",
    "  - 用于识别&匹配 \n",
    "- OBJECT_TYPE\n",
    "  - AV、AGENT、OTHER \n",
    "- x,y 坐标\n",
    "- CITY_NAME \n",
    "  - Map名 \n",
    "  \n",
    "Argoverse数据集在轨迹预测上**未给出具体类别标签**（三轮车、小车、货车），限制了预测模型性能，不同类别智能体对其他智能体的交互影响显式不同"
   ]
  },
  {
   "attachments": {},
   "cell_type": "markdown",
   "metadata": {},
   "source": [
    "### HDMap API \n"
   ]
  },
  {
   "cell_type": "code",
   "execution_count": 23,
   "metadata": {},
   "outputs": [
    {
     "name": "stdout",
     "output_type": "stream",
     "text": [
      "../../TNT-Trajectory-Prediction/train/train/data\n",
      "True\n",
      "Sequence_len 205942\n"
     ]
    }
   ],
   "source": [
    "import argoverse  \n",
    "\n",
    "# Create Argoverse Loader \n",
    "from argoverse.data_loading.argoverse_forecasting_loader import ArgoverseForecastingLoader  \n",
    "\n",
    "root_dir = val_pth + \"/val/data/\"  \n",
    "train_dir = train_pth + \"/train/data\"\n",
    "print(train_dir) \n",
    "print(os.path.exists(train_dir))  \n",
    "\n",
    "# --------------------------------- \n",
    "af1 = ArgoverseForecastingLoader(train_dir)       \n",
    "print('Sequence_len', len(af1)) # 39472个数据\n"
   ]
  },
  {
   "cell_type": "code",
   "execution_count": 24,
   "metadata": {},
   "outputs": [
    {
     "name": "stdout",
     "output_type": "stream",
     "text": [
      "Seq : /media/irvinghe/CodingSpace/ArgDataset/VectorZoo/Exps/../../TNT-Trajectory-Prediction/train/train/data/10000.csv\n",
      "        ----------------------\n",
      "        || City: MIA\n",
      "        || # Tracks: 37\n",
      "        ----------------------\n",
      "['00000000-0000-0000-0000-000000000000', '00000000-0000-0000-0000-000000089157', '00000000-0000-0000-0000-000000089172', '00000000-0000-0000-0000-000000089204', '00000000-0000-0000-0000-000000089218', '00000000-0000-0000-0000-000000089226', '00000000-0000-0000-0000-000000089231', '00000000-0000-0000-0000-000000089241', '00000000-0000-0000-0000-000000089242', '00000000-0000-0000-0000-000000089253', '00000000-0000-0000-0000-000000089258', '00000000-0000-0000-0000-000000089260', '00000000-0000-0000-0000-000000089264', '00000000-0000-0000-0000-000000089271', '00000000-0000-0000-0000-000000089272', '00000000-0000-0000-0000-000000089273', '00000000-0000-0000-0000-000000089277', '00000000-0000-0000-0000-000000089279', '00000000-0000-0000-0000-000000089280', '00000000-0000-0000-0000-000000089281', '00000000-0000-0000-0000-000000089284', '00000000-0000-0000-0000-000000089288', '00000000-0000-0000-0000-000000089289', '00000000-0000-0000-0000-000000089290', '00000000-0000-0000-0000-000000089294', '00000000-0000-0000-0000-000000089296', '00000000-0000-0000-0000-000000089297', '00000000-0000-0000-0000-000000089298', '00000000-0000-0000-0000-000000089299', '00000000-0000-0000-0000-000000089300', '00000000-0000-0000-0000-000000089303', '00000000-0000-0000-0000-000000089304', '00000000-0000-0000-0000-000000089307', '00000000-0000-0000-0000-000000089318', '00000000-0000-0000-0000-000000089322', '00000000-0000-0000-0000-000000089323', '00000000-0000-0000-0000-000000089332']\n"
     ]
    }
   ],
   "source": [
    "print(af1[4])\n",
    "print(af1[4].track_id_list)\n",
    "# print(af1[4].pos)"
   ]
  },
  {
   "cell_type": "code",
   "execution_count": 25,
   "metadata": {},
   "outputs": [
    {
     "name": "stdout",
     "output_type": "stream",
     "text": [
      "Seq : /media/irvinghe/CodingSpace/ArgDataset/VectorZoo/Exps/../../TNT-Trajectory-Prediction/train/train/data/100.csv\n",
      "        ----------------------\n",
      "        || City: MIA\n",
      "        || # Tracks: 23\n",
      "        ----------------------\n",
      "\n",
      "Seq : /media/irvinghe/CodingSpace/ArgDataset/VectorZoo/Exps/../../TNT-Trajectory-Prediction/train/train/data/100.csv\n",
      "        ----------------------\n",
      "        || City: MIA\n",
      "        || # Tracks: 23\n",
      "        ----------------------\n",
      "\n",
      "Seq : /media/irvinghe/CodingSpace/ArgDataset/VectorZoo/Exps/../../TNT-Trajectory-Prediction/train/train/data/100001.csv\n",
      "        ----------------------\n",
      "        || City: PIT\n",
      "        || # Tracks: 28\n",
      "        ----------------------\n",
      "\n",
      "Seq : /media/irvinghe/CodingSpace/ArgDataset/VectorZoo/Exps/../../TNT-Trajectory-Prediction/train/train/data/1.csv\n",
      "        ----------------------\n",
      "        || City: PIT\n",
      "        || # Tracks: 12\n",
      "        ----------------------\n",
      "\n",
      "Seq : /media/irvinghe/CodingSpace/ArgDataset/VectorZoo/Exps/../../TNT-Trajectory-Prediction/train/train/data/100013.csv\n",
      "        ----------------------\n",
      "        || City: PIT\n",
      "        || # Tracks: 19\n",
      "        ----------------------\n",
      "\n",
      "Seq : /media/irvinghe/CodingSpace/ArgDataset/VectorZoo/Exps/../../TNT-Trajectory-Prediction/train/train/data/100005.csv\n",
      "        ----------------------\n",
      "        || City: PIT\n",
      "        || # Tracks: 24\n",
      "        ----------------------\n",
      "\n",
      "Seq : /media/irvinghe/CodingSpace/ArgDataset/VectorZoo/Exps/../../TNT-Trajectory-Prediction/train/train/data/100010.csv\n",
      "        ----------------------\n",
      "        || City: MIA\n",
      "        || # Tracks: 42\n",
      "        ----------------------\n",
      "\n",
      "Seq : /media/irvinghe/CodingSpace/ArgDataset/VectorZoo/Exps/../../TNT-Trajectory-Prediction/train/train/data/10.csv\n",
      "        ----------------------\n",
      "        || City: MIA\n",
      "        || # Tracks: 101\n",
      "        ----------------------\n",
      "\n",
      "Seq : /media/irvinghe/CodingSpace/ArgDataset/VectorZoo/Exps/../../TNT-Trajectory-Prediction/train/train/data/10000.csv\n",
      "        ----------------------\n",
      "        || City: MIA\n",
      "        || # Tracks: 37\n",
      "        ----------------------\n",
      "\n",
      "Seq : /media/irvinghe/CodingSpace/ArgDataset/VectorZoo/Exps/../../TNT-Trajectory-Prediction/train/train/data/10001.csv\n",
      "        ----------------------\n",
      "        || City: PIT\n",
      "        || # Tracks: 5\n",
      "        ----------------------\n",
      "\n"
     ]
    }
   ],
   "source": [
    "import random  \n",
    "\n",
    "# 随机生成10个索引 \n",
    "def random_index(num):\n",
    "    return [random.randint(0, num - 1) for _ in range(10)] \n",
    "\n",
    "random_idx = random_index(20) \n",
    "\n",
    "for i in random_idx:\n",
    "    print(af1[i])\n",
    "    print()"
   ]
  },
  {
   "cell_type": "code",
   "execution_count": 53,
   "metadata": {},
   "outputs": [
    {
     "name": "stdout",
     "output_type": "stream",
     "text": [
      "../../TNT-Trajectory-Prediction/train\n",
      "         TIMESTAMP                              TRACK_ID OBJECT_TYPE  \\\n",
      "0     3.159689e+08  00000000-0000-0000-0000-000000000000          AV   \n",
      "1     3.159689e+08  00000000-0000-0000-0000-000000041500      OTHERS   \n",
      "2     3.159689e+08  00000000-0000-0000-0000-000000041656      OTHERS   \n",
      "3     3.159689e+08  00000000-0000-0000-0000-000000041782      OTHERS   \n",
      "4     3.159689e+08  00000000-0000-0000-0000-000000041819      OTHERS   \n",
      "...            ...                                   ...         ...   \n",
      "1053  3.159689e+08  00000000-0000-0000-0000-000000041961      OTHERS   \n",
      "1054  3.159689e+08  00000000-0000-0000-0000-000000041982      OTHERS   \n",
      "1055  3.159689e+08  00000000-0000-0000-0000-000000041975      OTHERS   \n",
      "1056  3.159689e+08  00000000-0000-0000-0000-000000041947      OTHERS   \n",
      "1057  3.159689e+08  00000000-0000-0000-0000-000000041880      OTHERS   \n",
      "\n",
      "               X            Y CITY_NAME  \n",
      "0     737.503800  1803.488354       MIA  \n",
      "1     722.870523  1878.292464       MIA  \n",
      "2     741.655096  1820.336732       MIA  \n",
      "3     753.299107  1866.627690       MIA  \n",
      "4     748.102960  1819.008706       MIA  \n",
      "...          ...          ...       ...  \n",
      "1053  734.401872  1722.283023       MIA  \n",
      "1054  727.369903  1722.768307       MIA  \n",
      "1055  737.338897  1726.333681       MIA  \n",
      "1056  745.383170  1735.405771       MIA  \n",
      "1057  750.991528  1804.856832       MIA  \n",
      "\n",
      "[1058 rows x 6 columns]\n"
     ]
    },
    {
     "data": {
      "image/png": "[encoded data removed]",
      "text/plain": [
       "<Figure size 576x504 with 1 Axes>"
      ]
     },
     "metadata": {
      "needs_background": "light"
     },
     "output_type": "display_data"
    }
   ],
   "source": [
    "from argoverse.visualization.visualize_sequences import viz_sequence  \n",
    "print(train_pth)\n",
    "seq_path = f\"{train_pth}/train/data/2655.csv\" \n",
    "\n",
    "data = af1.get(seq_path) \n",
    "print(data.seq_df) # 1027 * 6的pandas dataframe\n",
    "\n",
    "viz_sequence(af1.get(seq_path).seq_df, show=True) \n",
    "\n",
    "# green --- 自车 \n",
    "# red --- AGENT \n",
    "# 浅蓝色 --- OTHERS  "
   ]
  },
  {
   "cell_type": "code",
   "execution_count": 67,
   "metadata": {},
   "outputs": [
    {
     "data": {
      "image/png": "[encoded data removed]",
      "text/plain": [
       "<Figure size 576x504 with 1 Axes>"
      ]
     },
     "metadata": {
      "needs_background": "light"
     },
     "output_type": "display_data"
    },
    {
     "name": "stdout",
     "output_type": "stream",
     "text": [
      "/media/irvinghe/CodingSpace/ArgDataset/VectorZoo/Exps/../../TNT-Trajectory-Prediction/train/train/data/117116.csv\n",
      "Seq : /media/irvinghe/CodingSpace/ArgDataset/VectorZoo/Exps/../../TNT-Trajectory-Prediction/train/train/data/117116.csv\n",
      "        ----------------------\n",
      "        || City: MIA\n",
      "        || # Tracks: 9\n",
      "        ----------------------\n",
      "205942\n"
     ]
    }
   ],
   "source": [
    "# 地图信息 \n",
    "# Agent轨迹的得到候选中心线 \n",
    "# 用前2s轨迹计算候选中心线后3s \n",
    "from argoverse.map_representation.map_api import ArgoverseMap \n",
    "avm = ArgoverseMap() \n",
    "\n",
    "obs_len = 20 # \n",
    "index = 255 \n",
    "seq_path = af1.seq_list[index]  \n",
    "agent_obs_traj = af1.get(seq_path).agent_traj[:obs_len]  # 前2s轨迹 20个点 频率10Hz  \n",
    "# av_obs_traj = af1.get(seq_path).av_obs_traj[:obs_len]\n",
    "candidate_centerlines = avm.get_candidate_centerlines_for_traj(agent_obs_traj, af1[index].city, viz=True) \n",
    "\n",
    "# print(agent_obs_traj) \n",
    "print(seq_path)\n",
    "print(af1[index]) \n",
    "print(len(af1.seq_list)) # 205942\n",
    "# s--start \n",
    "# e--end\n",
    "# 点 表示现在pos\n"
   ]
  },
  {
   "attachments": {},
   "cell_type": "markdown",
   "metadata": {},
   "source": [
    "### Map可视化"
   ]
  },
  {
   "cell_type": "code",
   "execution_count": 76,
   "metadata": {},
   "outputs": [
    {
     "name": "stdout",
     "output_type": "stream",
     "text": [
      "False\n"
     ]
    }
   ],
   "source": [
    "# create new map api \n",
    "import os \n",
    "from argoverse.map_representation.map_api import ArgoverseMap \n",
    "\n",
    "Map = ArgoverseMap()  \n",
    "\n",
    "tracking_pth = \"../../TNT-Trajectory-Prediction/tracking/argoverse-tracking/data/\" \n",
    "print(os.path.exists(tracking_pth))\n"
   ]
  },
  {
   "attachments": {},
   "cell_type": "markdown",
   "metadata": {},
   "source": [
    "#### 1. Lane Polygon 车道几何 \n",
    "\n",
    "`Argoverse.find_local_lane_polygons` 找到特定区域的车道几何  "
   ]
  },
  {
   "cell_type": "code",
   "execution_count": 75,
   "metadata": {},
   "outputs": [
    {
     "ename": "IndexError",
     "evalue": "list index out of range",
     "output_type": "error",
     "traceback": [
      "\u001b[0;31m---------------------------------------------------------------------------\u001b[0m",
      "\u001b[0;31mIndexError\u001b[0m                                Traceback (most recent call last)",
      "\u001b[0;32m<ipython-input-75-c7a975899eed>\u001b[0m in \u001b[0;36m<module>\u001b[0;34m\u001b[0m\n\u001b[1;32m      5\u001b[0m \u001b[0midx\u001b[0m \u001b[0;34m=\u001b[0m \u001b[0;36m100\u001b[0m\u001b[0;34m\u001b[0m\u001b[0;34m\u001b[0m\u001b[0m\n\u001b[1;32m      6\u001b[0m \u001b[0;34m\u001b[0m\u001b[0m\n\u001b[0;32m----> 7\u001b[0;31m \u001b[0margoverse_loader\u001b[0m \u001b[0;34m=\u001b[0m \u001b[0mArgoverseTrackingLoader\u001b[0m\u001b[0;34m(\u001b[0m\u001b[0mtracking_pth\u001b[0m\u001b[0;34m)\u001b[0m\u001b[0;34m\u001b[0m\u001b[0;34m\u001b[0m\u001b[0m\n\u001b[0m\u001b[1;32m      8\u001b[0m \u001b[0mlog_id\u001b[0m \u001b[0;34m=\u001b[0m \u001b[0margoverse_loader\u001b[0m\u001b[0;34m.\u001b[0m\u001b[0mlog_lists\u001b[0m\u001b[0;34m[\u001b[0m\u001b[0mlog_index\u001b[0m\u001b[0;34m]\u001b[0m\u001b[0;34m\u001b[0m\u001b[0;34m\u001b[0m\u001b[0m\n\u001b[1;32m      9\u001b[0m \u001b[0margoverse_data\u001b[0m \u001b[0;34m=\u001b[0m \u001b[0margoverse_loader\u001b[0m\u001b[0;34m[\u001b[0m\u001b[0mlog_index\u001b[0m\u001b[0;34m]\u001b[0m\u001b[0;34m\u001b[0m\u001b[0;34m\u001b[0m\u001b[0m\n",
      "\u001b[0;32m/media/irvinghe/CodingSpace/ArgDataset/argoverse-api/argoverse/data_loading/argoverse_tracking_loader.py\u001b[0m in \u001b[0;36m__init__\u001b[0;34m(self, root_dir)\u001b[0m\n\u001b[1;32m     43\u001b[0m         \u001b[0mself\u001b[0m\u001b[0;34m.\u001b[0m\u001b[0mroot_dir\u001b[0m\u001b[0;34m:\u001b[0m \u001b[0mstr\u001b[0m \u001b[0;34m=\u001b[0m \u001b[0mroot_dir\u001b[0m\u001b[0;34m\u001b[0m\u001b[0;34m\u001b[0m\u001b[0m\n\u001b[1;32m     44\u001b[0m \u001b[0;34m\u001b[0m\u001b[0m\n\u001b[0;32m---> 45\u001b[0;31m         \u001b[0mself\u001b[0m\u001b[0;34m.\u001b[0m\u001b[0mcurrent_log\u001b[0m \u001b[0;34m=\u001b[0m \u001b[0mself\u001b[0m\u001b[0;34m.\u001b[0m\u001b[0mlog_list\u001b[0m\u001b[0;34m[\u001b[0m\u001b[0mself\u001b[0m\u001b[0;34m.\u001b[0m\u001b[0mcounter\u001b[0m\u001b[0;34m]\u001b[0m\u001b[0;34m\u001b[0m\u001b[0;34m\u001b[0m\u001b[0m\n\u001b[0m\u001b[1;32m     46\u001b[0m \u001b[0;34m\u001b[0m\u001b[0m\n\u001b[1;32m     47\u001b[0m         \u001b[0;32massert\u001b[0m \u001b[0mself\u001b[0m\u001b[0;34m.\u001b[0m\u001b[0mimage_list\u001b[0m \u001b[0;32mis\u001b[0m \u001b[0;32mnot\u001b[0m \u001b[0;32mNone\u001b[0m\u001b[0;34m\u001b[0m\u001b[0;34m\u001b[0m\u001b[0m\n",
      "\u001b[0;31mIndexError\u001b[0m: list index out of range"
     ]
    }
   ],
   "source": [
    "from argoverse.data_loading.argoverse_tracking_loader import ArgoverseTrackingLoader \n",
    "\n",
    "log_index = 0 \n",
    "frame_index = 100 \n",
    "idx = 100 \n",
    "\n",
    "argoverse_loader = ArgoverseTrackingLoader(tracking_pth) \n",
    "log_id = argoverse_loader.log_lists[log_index] \n",
    "argoverse_data = argoverse_loader[log_index]  \n",
    "city_name = argoverse_data.city_name \n",
    "\n",
    "lidar_pts = argoverse_data.get_lidar(idx)\n"
   ]
  },
  {
   "cell_type": "code",
   "execution_count": null,
   "metadata": {},
   "outputs": [],
   "source": []
  }
 ],
 "metadata": {
  "kernelspec": {
   "display_name": "interfuser",
   "language": "python",
   "name": "python3"
  },
  "language_info": {
   "codemirror_mode": {
    "name": "ipython",
    "version": 3
   },
   "file_extension": ".py",
   "mimetype": "text/x-python",
   "name": "python",
   "nbconvert_exporter": "python",
   "pygments_lexer": "ipython3",
   "version": "3.7.16"
  },
  "orig_nbformat": 4
 },
 "nbformat": 4,
 "nbformat_minor": 2
}
